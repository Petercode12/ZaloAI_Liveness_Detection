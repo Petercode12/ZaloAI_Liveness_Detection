{
 "cells": [
  {
   "cell_type": "code",
   "execution_count": 11,
   "metadata": {},
   "outputs": [],
   "source": [
    "from utils import file2class\n",
    "import tqdm, os\n",
    "import time\n",
    "import pandas as pd"
   ]
  },
  {
   "cell_type": "code",
   "execution_count": 12,
   "metadata": {},
   "outputs": [
    {
     "name": "stderr",
     "output_type": "stream",
     "text": [
      "  0%|          | 0/350 [00:00<?, ?it/s]"
     ]
    }
   ],
   "source": [
    "test_cases = tqdm.tqdm(os.listdir('data'))"
   ]
  },
  {
   "cell_type": "code",
   "execution_count": 13,
   "metadata": {},
   "outputs": [
    {
     "name": "stderr",
     "output_type": "stream",
     "text": [
      "100%|██████████| 350/350 [12:35<00:00,  2.16s/it]"
     ]
    },
    {
     "name": "stdout",
     "output_type": "stream",
     "text": [
      "        fname  liveness_score\n",
      "0       0.mp4               0\n",
      "1     100.mp4               1\n",
      "2    1001.mp4               1\n",
      "3    1005.mp4               1\n",
      "4    1022.mp4               1\n",
      "..        ...             ...\n",
      "345   972.mp4               1\n",
      "346   973.mp4               1\n",
      "347   979.mp4               1\n",
      "348   981.mp4               1\n",
      "349   983.mp4               1\n",
      "\n",
      "[350 rows x 2 columns]\n",
      "DONE\n"
     ]
    },
    {
     "name": "stderr",
     "output_type": "stream",
     "text": [
      "\n"
     ]
    }
   ],
   "source": [
    "nameCol = []\n",
    "resCol = []\n",
    "timeCol = []\n",
    "for filename in test_cases:\n",
    "    t1 = time.time()\n",
    "    result = file2class(f'./data/{filename}')\n",
    "    t2 = time.time()\n",
    "    predicted_time = int(t2*1000 - t1*1000)\n",
    "    nameCol.append(filename)\n",
    "    resCol.append(result)\n",
    "    timeCol.append(predicted_time)\n",
    "\n",
    "df = pd.DataFrame({\n",
    "    'fname': nameCol,\n",
    "    'liveness_score': resCol\n",
    "})\n",
    "df2 = pd.DataFrame({\n",
    "    'fname': nameCol,\n",
    "    'time': timeCol\n",
    "})\n",
    "print(df)\n",
    "\n",
    "df.to_csv('jupyter_submission.csv', index = False)\n",
    "df2.to_csv('time_submission.csv', index = False)\n",
    "print('DONE')"
   ]
  }
 ],
 "metadata": {
  "kernelspec": {
   "display_name": "Python 3.8.5 64-bit",
   "language": "python",
   "name": "python3"
  },
  "language_info": {
   "codemirror_mode": {
    "name": "ipython",
    "version": 3
   },
   "file_extension": ".py",
   "mimetype": "text/x-python",
   "name": "python",
   "nbconvert_exporter": "python",
   "pygments_lexer": "ipython3",
   "version": "3.8.5"
  },
  "orig_nbformat": 4,
  "vscode": {
   "interpreter": {
    "hash": "f544ce1a915a9875fad91c894e2c0bcad4b7a79945aa6027ef3ad27810072aa6"
   }
  }
 },
 "nbformat": 4,
 "nbformat_minor": 2
}
